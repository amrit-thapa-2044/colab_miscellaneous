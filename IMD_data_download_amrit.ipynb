{
  "nbformat": 4,
  "nbformat_minor": 0,
  "metadata": {
    "colab": {
      "name": "IMD_data_download_amrit.ipynb",
      "provenance": [],
      "collapsed_sections": [],
      "toc_visible": true,
      "authorship_tag": "ABX9TyPy7PFXLxYsYHslfVH+1epP",
      "include_colab_link": true
    },
    "kernelspec": {
      "name": "python3",
      "display_name": "Python 3"
    },
    "language_info": {
      "name": "python"
    }
  },
  "cells": [
    {
      "cell_type": "markdown",
      "metadata": {
        "id": "view-in-github",
        "colab_type": "text"
      },
      "source": [
        "<a href=\"https://colab.research.google.com/github/amrit-thapa-2044/colab_miscellaneous/blob/main/IMD_data_download_amrit.ipynb\" target=\"_parent\"><img src=\"https://colab.research.google.com/assets/colab-badge.svg\" alt=\"Open In Colab\"/></a>"
      ]
    },
    {
      "cell_type": "markdown",
      "source": [
        "**<div align=\"center\"><font size=\"20\">Downloading IMD data</font>**\n",
        "\n",
        "Prepared by: Amrit Thapa \\\n",
        "Email: aamritjnu@gmail.com\n",
        "GitHub: https://github.com/amrit-thapa-2044\n",
        "\n",
        "---"
      ],
      "metadata": {
        "id": "Dbg3rBPG_RPS"
      }
    },
    {
      "cell_type": "markdown",
      "source": [
        "# Background"
      ],
      "metadata": {
        "id": "dlPWNn7A6_my"
      }
    },
    {
      "cell_type": "markdown",
      "source": [
        "The purpose of this notebook is to guide you through the process of downloading daily historical precipitation (0.25 by 0.25) and temperature (1 by 1) dataets developed by the Indian Meteorological Division (IMD) for India. More information about the dataset can be found [here](https://www.imdpune.gov.in/Clim_Pred_LRF_New/Grided_Data_Download.html). \n",
        "\n"
      ],
      "metadata": {
        "id": "ay0vcg6_uxEl"
      }
    },
    {
      "cell_type": "markdown",
      "source": [
        "We make use of python package named ***IMDLIB*** developed by [Nandi and Patel (2020)](https://doi.org/10.5281/zenodo.4405232)\n",
        "\n",
        "Detail about the package can be obtained from this [link](https://github.com/iamsaswata/imdlib) "
      ],
      "metadata": {
        "id": "Zj3V6gbt5VCs"
      }
    },
    {
      "cell_type": "markdown",
      "source": [
        "# Install IMDLIB package\n",
        "Users must install the imdlib package since it is not included in the Python included with Colab Notebook. Let's install the development version."
      ],
      "metadata": {
        "id": "YptWCCCB7EsM"
      }
    },
    {
      "cell_type": "code",
      "execution_count": 1,
      "metadata": {
        "colab": {
          "base_uri": "https://localhost:8080/"
        },
        "id": "9lIpOzNBsio_",
        "outputId": "e192c6fd-f350-4649-be92-8ebaa96e4b17"
      },
      "outputs": [
        {
          "output_type": "stream",
          "name": "stdout",
          "text": [
            "Looking in indexes: https://pypi.org/simple, https://us-python.pkg.dev/colab-wheels/public/simple/\n",
            "Collecting git+https://github.com/iamsaswata/imdlib.git\n",
            "  Cloning https://github.com/iamsaswata/imdlib.git to /tmp/pip-req-build-tje6pz2u\n",
            "  Running command git clone -q https://github.com/iamsaswata/imdlib.git /tmp/pip-req-build-tje6pz2u\n",
            "Requirement already satisfied: matplotlib in /usr/local/lib/python3.7/dist-packages (from imdlib==0.1.12) (3.2.2)\n",
            "Requirement already satisfied: numpy in /usr/local/lib/python3.7/dist-packages (from imdlib==0.1.12) (1.21.6)\n",
            "Requirement already satisfied: pandas in /usr/local/lib/python3.7/dist-packages (from imdlib==0.1.12) (1.3.5)\n",
            "Requirement already satisfied: six in /usr/local/lib/python3.7/dist-packages (from imdlib==0.1.12) (1.15.0)\n",
            "Requirement already satisfied: python-dateutil in /usr/local/lib/python3.7/dist-packages (from imdlib==0.1.12) (2.8.2)\n",
            "Requirement already satisfied: pytz in /usr/local/lib/python3.7/dist-packages (from imdlib==0.1.12) (2022.1)\n",
            "Requirement already satisfied: urllib3 in /usr/local/lib/python3.7/dist-packages (from imdlib==0.1.12) (1.24.3)\n",
            "Requirement already satisfied: scipy in /usr/local/lib/python3.7/dist-packages (from imdlib==0.1.12) (1.4.1)\n",
            "Requirement already satisfied: xarray in /usr/local/lib/python3.7/dist-packages (from imdlib==0.1.12) (0.20.2)\n",
            "Requirement already satisfied: requests in /usr/local/lib/python3.7/dist-packages (from imdlib==0.1.12) (2.23.0)\n",
            "Requirement already satisfied: cycler>=0.10 in /usr/local/lib/python3.7/dist-packages (from matplotlib->imdlib==0.1.12) (0.11.0)\n",
            "Requirement already satisfied: kiwisolver>=1.0.1 in /usr/local/lib/python3.7/dist-packages (from matplotlib->imdlib==0.1.12) (1.4.3)\n",
            "Requirement already satisfied: pyparsing!=2.0.4,!=2.1.2,!=2.1.6,>=2.0.1 in /usr/local/lib/python3.7/dist-packages (from matplotlib->imdlib==0.1.12) (3.0.9)\n",
            "Requirement already satisfied: typing-extensions in /usr/local/lib/python3.7/dist-packages (from kiwisolver>=1.0.1->matplotlib->imdlib==0.1.12) (4.1.1)\n",
            "Requirement already satisfied: idna<3,>=2.5 in /usr/local/lib/python3.7/dist-packages (from requests->imdlib==0.1.12) (2.10)\n",
            "Requirement already satisfied: chardet<4,>=3.0.2 in /usr/local/lib/python3.7/dist-packages (from requests->imdlib==0.1.12) (3.0.4)\n",
            "Requirement already satisfied: certifi>=2017.4.17 in /usr/local/lib/python3.7/dist-packages (from requests->imdlib==0.1.12) (2022.6.15)\n",
            "Requirement already satisfied: importlib-metadata in /usr/local/lib/python3.7/dist-packages (from xarray->imdlib==0.1.12) (4.11.4)\n",
            "Requirement already satisfied: zipp>=0.5 in /usr/local/lib/python3.7/dist-packages (from importlib-metadata->xarray->imdlib==0.1.12) (3.8.0)\n",
            "Building wheels for collected packages: imdlib\n",
            "  Building wheel for imdlib (setup.py) ... \u001b[?25l\u001b[?25hdone\n",
            "  Created wheel for imdlib: filename=imdlib-0.1.12-py3-none-any.whl size=8564 sha256=1a829173c0c949321c56e856281ecc607401a44dc86b9571e6b27bbe43db4510\n",
            "  Stored in directory: /tmp/pip-ephem-wheel-cache-zm5raya8/wheels/aa/a0/06/f8ab34f27f6f9e8f0492ee2d419324e4e129d7e1e2a9401e46\n",
            "Successfully built imdlib\n",
            "Installing collected packages: imdlib\n",
            "Successfully installed imdlib-0.1.12\n"
          ]
        }
      ],
      "source": [
        "!pip install git+https://github.com/iamsaswata/imdlib.git"
      ]
    },
    {
      "cell_type": "code",
      "source": [
        "# load required package\n",
        "import imdlib as imd"
      ],
      "metadata": {
        "id": "KkUSG_Z7yLBm"
      },
      "execution_count": 2,
      "outputs": []
    },
    {
      "cell_type": "markdown",
      "source": [
        "# Define user variables\n",
        "In this section, we define the time frame that we are interested in. Additionally, we will create two variables file_dir and output_filename to specify the input directory and create the output filename to download the data."
      ],
      "metadata": {
        "id": "BRb4UYKk7UvT"
      }
    },
    {
      "cell_type": "code",
      "source": [
        "start_yr = 2016\n",
        "end_yr = 2017 # should be equal to or greater than  start_yr\n",
        "variable = 'tmax' # options are ('rain'/'tmin'/ 'tmax')"
      ],
      "metadata": {
        "id": "3nnMWQhRsvKq"
      },
      "execution_count": 3,
      "outputs": []
    },
    {
      "cell_type": "code",
      "source": [
        "file_dir='/content/'+variable\n",
        "print(file_dir)"
      ],
      "metadata": {
        "colab": {
          "base_uri": "https://localhost:8080/"
        },
        "id": "AhNodFjytjqL",
        "outputId": "d3ecefba-1b9a-43de-d768-447fed490053"
      },
      "execution_count": 4,
      "outputs": [
        {
          "output_type": "stream",
          "name": "stdout",
          "text": [
            "/content/tmax\n"
          ]
        }
      ]
    },
    {
      "cell_type": "code",
      "source": [
        "output_filename='IMD_data_'+variable+'_'+str(start_yr)+'_'+str(end_yr)+'.nc'\n",
        "print(output_filename)"
      ],
      "metadata": {
        "id": "1r8n2wbb8cLl",
        "colab": {
          "base_uri": "https://localhost:8080/"
        },
        "outputId": "22c5bbd2-cbf2-443e-f371-5911b6592bfa"
      },
      "execution_count": 5,
      "outputs": [
        {
          "output_type": "stream",
          "name": "stdout",
          "text": [
            "IMD_data_tmax_2016_2017.nc\n"
          ]
        }
      ]
    },
    {
      "cell_type": "markdown",
      "source": [
        "# Download data within colab\n",
        "Let's download the data using the get_data function from the imdlib package."
      ],
      "metadata": {
        "id": "cVS9PA2m7c0j"
      }
    },
    {
      "cell_type": "code",
      "source": [
        "data = imd.get_data(variable, start_yr, end_yr, fn_format='yearwise')"
      ],
      "metadata": {
        "colab": {
          "base_uri": "https://localhost:8080/"
        },
        "id": "0LEDtgmfD_Um",
        "outputId": "ee949a68-a8f7-4643-efd5-5582a3ea2d0a"
      },
      "execution_count": 6,
      "outputs": [
        {
          "output_type": "stream",
          "name": "stdout",
          "text": [
            "Downloading: maxtemp for year 2016\n",
            "Downloading: maxtemp for year 2017\n",
            "Download Successful !!!\n"
          ]
        }
      ]
    },
    {
      "cell_type": "markdown",
      "source": [
        "# Convert data to xarray object\n",
        "The output file is in binary format. In the following code, the data is converted into an xarray to make it easier to visualize and download."
      ],
      "metadata": {
        "id": "EpowKYk68GZd"
      }
    },
    {
      "cell_type": "code",
      "source": [
        "ds = data.get_xarray()\n",
        "print(ds)"
      ],
      "metadata": {
        "colab": {
          "base_uri": "https://localhost:8080/"
        },
        "id": "ckR1VooRtEZU",
        "outputId": "2769c8f5-e4b7-463b-c7ab-226f584e3688"
      },
      "execution_count": 7,
      "outputs": [
        {
          "output_type": "stream",
          "name": "stdout",
          "text": [
            "<xarray.Dataset>\n",
            "Dimensions:  (time: 731, lat: 31, lon: 31)\n",
            "Coordinates:\n",
            "  * lat      (lat) float64 7.5 8.5 9.5 10.5 11.5 ... 33.5 34.5 35.5 36.5 37.5\n",
            "  * lon      (lon) float64 67.5 68.5 69.5 70.5 71.5 ... 93.5 94.5 95.5 96.5 97.5\n",
            "  * time     (time) datetime64[ns] 2016-01-01 2016-01-02 ... 2017-12-31\n",
            "Data variables:\n",
            "    tmax     (time, lat, lon) float64 99.9 99.9 99.9 99.9 ... 99.9 99.9 99.9\n",
            "Attributes:\n",
            "    Conventions:  CF-1.7\n",
            "    title:        IMD gridded data\n",
            "    source:       https://imdpune.gov.in/\n",
            "    history:      2022-07-03 09:08:15.719591 Python\n",
            "    references:   \n",
            "    comment:      \n",
            "    crs:          epsg:4326\n"
          ]
        }
      ]
    },
    {
      "cell_type": "markdown",
      "source": [
        "# Visualize data\n",
        "\n",
        "To get an idea of the data, let's visualize it. We should first remove missing values in the data, which correspond to -999.0 for rain and 99.9 for temperature."
      ],
      "metadata": {
        "id": "ex0dJEC_8Qg9"
      }
    },
    {
      "cell_type": "code",
      "source": [
        "if variable == 'rain':\n",
        "    ds = ds.where(ds[variable] != -999.) #Remove NaN values\n",
        "else:\n",
        "    ds = ds.where(ds[variable] < 99.9) #Remove NaN values"
      ],
      "metadata": {
        "id": "7QH9VjStAx7J"
      },
      "execution_count": 8,
      "outputs": []
    },
    {
      "cell_type": "code",
      "source": [
        "ds[variable].mean('time').plot()"
      ],
      "metadata": {
        "colab": {
          "base_uri": "https://localhost:8080/",
          "height": 297
        },
        "id": "J6QVMRmzJWEy",
        "outputId": "ff05b06f-8dc7-4086-818b-cef60eac1af9"
      },
      "execution_count": 9,
      "outputs": [
        {
          "output_type": "execute_result",
          "data": {
            "text/plain": [
              "<matplotlib.collections.QuadMesh at 0x7f3cbe6ee890>"
            ]
          },
          "metadata": {},
          "execution_count": 9
        },
        {
          "output_type": "display_data",
          "data": {
            "text/plain": [
              "<Figure size 432x288 with 2 Axes>"
            ],
            "image/png": "[encoded data removed]"
          },
          "metadata": {
            "needs_background": "light"
          }
        }
      ]
    },
    {
      "cell_type": "markdown",
      "source": [
        "# Convert to netCDF format\n",
        "\n",
        "We converted data to xarray in the previous section. To export the file , let's convert xarray to netCDF. "
      ],
      "metadata": {
        "id": "Av5IwgBI7mYm"
      }
    },
    {
      "cell_type": "code",
      "source": [
        "data.to_netcdf(output_filename, file_dir)"
      ],
      "metadata": {
        "id": "kmb6Mk_U2EcQ"
      },
      "execution_count": 10,
      "outputs": []
    },
    {
      "cell_type": "markdown",
      "source": [
        "# Dowload data lo local machine\n",
        "\n",
        "To download the nc file we just created, we used the file.download function from the google.colab package."
      ],
      "metadata": {
        "id": "xeA6t9a07tDc"
      }
    },
    {
      "cell_type": "code",
      "source": [
        "from google.colab import files\n",
        "files.download(file_dir+'/'+output_filename)"
      ],
      "metadata": {
        "colab": {
          "base_uri": "https://localhost:8080/",
          "height": 17
        },
        "id": "PXtqUpqOt2ec",
        "outputId": "3b31587b-8adf-4a78-83a2-93fdf1a938b2"
      },
      "execution_count": 11,
      "outputs": [
        {
          "output_type": "display_data",
          "data": {
            "text/plain": [
              "<IPython.core.display.Javascript object>"
            ],
            "application/javascript": [
              "\n",
              "    async function download(id, filename, size) {\n",
              "      if (!google.colab.kernel.accessAllowed) {\n",
              "        return;\n",
              "      }\n",
              "      const div = document.createElement('div');\n",
              "      const label = document.createElement('label');\n",
              "      label.textContent = `Downloading \"${filename}\": `;\n",
              "      div.appendChild(label);\n",
              "      const progress = document.createElement('progress');\n",
              "      progress.max = size;\n",
              "      div.appendChild(progress);\n",
              "      document.body.appendChild(div);\n",
              "\n",
              "      const buffers = [];\n",
              "      let downloaded = 0;\n",
              "\n",
              "      const channel = await google.colab.kernel.comms.open(id);\n",
              "      // Send a message to notify the kernel that we're ready.\n",
              "      channel.send({})\n",
              "\n",
              "      for await (const message of channel.messages) {\n",
              "        // Send a message to notify the kernel that we're ready.\n",
              "        channel.send({})\n",
              "        if (message.buffers) {\n",
              "          for (const buffer of message.buffers) {\n",
              "            buffers.push(buffer);\n",
              "            downloaded += buffer.byteLength;\n",
              "            progress.value = downloaded;\n",
              "          }\n",
              "        }\n",
              "      }\n",
              "      const blob = new Blob(buffers, {type: 'application/binary'});\n",
              "      const a = document.createElement('a');\n",
              "      a.href = window.URL.createObjectURL(blob);\n",
              "      a.download = filename;\n",
              "      div.appendChild(a);\n",
              "      a.click();\n",
              "      div.remove();\n",
              "    }\n",
              "  "
            ]
          },
          "metadata": {}
        },
        {
          "output_type": "display_data",
          "data": {
            "text/plain": [
              "<IPython.core.display.Javascript object>"
            ],
            "application/javascript": [
              "download(\"download_15154027-ce60-4e71-a694-218620153ac4\", \"IMD_data_tmax_2016_2017.nc\", 5637413)"
            ]
          },
          "metadata": {}
        }
      ]
    },
    {
      "cell_type": "markdown",
      "source": [
        "**Keep in Mind**\n",
        "\n",
        "* (-999.0) represents missing values in the rain data downloaded\n",
        "* 99.9 represents missing values in the temperature data downloaded\n",
        "\n",
        "You can further process the data using any GIS software.\n"
      ],
      "metadata": {
        "id": "S4g45vog4UlD"
      }
    },
    {
      "cell_type": "markdown",
      "source": [
        "**<div align=\"center\"><font size=\"20\">Good Luck</font>**"
      ],
      "metadata": {
        "id": "oZV0HRx2UC1N"
      }
    }
  ]
}