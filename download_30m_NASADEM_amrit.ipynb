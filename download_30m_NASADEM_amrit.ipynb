{
  "cells": [
    {
      "cell_type": "markdown",
      "metadata": {
        "id": "view-in-github",
        "colab_type": "text"
      },
      "source": [
        "<a href=\"https://colab.research.google.com/github/amrit-thapa-2044/colab_miscellaneous/blob/main/download_30m_NASADEM_amrit.ipynb\" target=\"_parent\"><img src=\"https://colab.research.google.com/assets/colab-badge.svg\" alt=\"Open In Colab\"/></a>"
      ]
    },
    {
      "cell_type": "markdown",
      "source": [
        "Detail about the NASA SRTM 30m data is [here](https://developers.google.com/earth-engine/datasets/catalog/NASA_NASADEM_HGT_001)."
      ],
      "metadata": {
        "id": "xLOfDtFyvzj1"
      }
    },
    {
      "cell_type": "markdown",
      "source": [
        "# Installing and loading packages"
      ],
      "metadata": {
        "id": "jTh8mP2yqiMz"
      }
    },
    {
      "cell_type": "code",
      "execution_count": null,
      "metadata": {
        "id": "41v_cz3IKy7j"
      },
      "outputs": [],
      "source": [
        "!pip install geemap"
      ]
    },
    {
      "cell_type": "markdown",
      "source": [
        "Before executing following steps, click restart runtime tab if it appears after executing above step."
      ],
      "metadata": {
        "id": "YFilkzBArmdJ"
      }
    },
    {
      "cell_type": "code",
      "execution_count": 2,
      "metadata": {
        "id": "9feJiS0wKy7k"
      },
      "outputs": [],
      "source": [
        "import ee\n",
        "import geemap.eefolium as geemap\n",
        "import os\n",
        "from datetime import datetime"
      ]
    },
    {
      "cell_type": "markdown",
      "source": [
        "# Authenticating and initializing"
      ],
      "metadata": {
        "id": "7QaEdZsjtkz7"
      }
    },
    {
      "cell_type": "code",
      "source": [
        "# Trigger the authentication flow.\n",
        "ee.Authenticate()\n",
        "\n",
        "# Initialize the library.\n",
        "ee.Initialize()"
      ],
      "metadata": {
        "colab": {
          "base_uri": "https://localhost:8080/"
        },
        "id": "Ke0tQRvgtZ0H",
        "outputId": "3776be6d-ae4d-4ed9-85bc-360fd2468a0d"
      },
      "execution_count": 3,
      "outputs": [
        {
          "output_type": "stream",
          "name": "stdout",
          "text": [
            "To authorize access needed by Earth Engine, open the following URL in a web browser and follow the instructions. If the web browser does not start automatically, please manually browse the URL below.\n",
            "\n",
            "    https://code.earthengine.google.com/client-auth?scopes=https%3A//www.googleapis.com/auth/earthengine%20https%3A//www.googleapis.com/auth/devstorage.full_control&request_id=z02Ewh7j0CBdtkwCWHV1gYhORjIHac-BxxwUZqZ8dE8&tc=eYIENc2YG7R3uzL1SBvtEhApIvKIZ8Ou8QU4D5FDGQk&cc=JOXVrjPpdt-CJEXzeV5R6Kh-RSi91s32Yu05dc8S9yU\n",
            "\n",
            "The authorization workflow will generate a code, which you should paste in the box below. \n",
            "Enter verification code: 4/1AdQt8qiXBrDxC3Gu0P08dtMpEfB-S2B7E5DALIaiZdI0ZxpPZFKXFYArVL8\n",
            "\n",
            "Successfully saved authorization token.\n"
          ]
        }
      ]
    },
    {
      "cell_type": "markdown",
      "metadata": {
        "id": "-8KPBClVKy7l"
      },
      "source": [
        "# Setting an output directory"
      ]
    },
    {
      "cell_type": "code",
      "execution_count": 4,
      "metadata": {
        "id": "sh_5pUqsKy7l"
      },
      "outputs": [],
      "source": [
        "out_dir = os.path.expanduser(\"./srtm_download\")\n",
        "\n",
        "if not os.path.exists(out_dir):\n",
        "    os.makedirs(out_dir)"
      ]
    },
    {
      "cell_type": "markdown",
      "metadata": {
        "id": "PrsmL3CEKy7m"
      },
      "source": [
        "# Defining bounding box (roi)"
      ]
    },
    {
      "cell_type": "markdown",
      "metadata": {
        "id": "ANjIHcRnKy7n"
      },
      "source": [
        "Define your area of interest in a closed loop to form polygon. Example: [[x1 (longitude),y1(latitude)],[x2,y2],[x3,y3],[x4,y4],[x1,y1]].\n",
        "\n",
        "**NOTE**: *The dimention of the boundig box must be less than or equal to 10000 for now.*"
      ]
    },
    {
      "cell_type": "code",
      "source": [
        "my_aoi_name='langtang_catchment_'"
      ],
      "metadata": {
        "id": "M_LCW0CoiYBH"
      },
      "execution_count": 5,
      "outputs": []
    },
    {
      "cell_type": "code",
      "execution_count": 6,
      "metadata": {
        "id": "LVe7gcaUKy7o"
      },
      "outputs": [],
      "source": [
        "roi = ee.Geometry.Polygon(coords = [[[85.3, 28], [85.3, 28.5], [86, 28.5], [86, 28], [85.3, 28]]])\n",
        "# NOTE: Pixel grid dimensions must be less than or equal to 10000."
      ]
    },
    {
      "cell_type": "code",
      "source": [
        "Map = geemap.Map()\n",
        "Map.addLayer(roi, {'color': 'orange'}, 'my_aoi');\n",
        "Map.centerObject(roi, 9);\n",
        "Map"
      ],
      "metadata": {
        "colab": {
          "base_uri": "https://localhost:8080/",
          "height": 685
        },
        "id": "bVLLavG4gLJe",
        "outputId": "acefa9e2-cfc5-4abe-8225-311f621a2272"
      },
      "execution_count": 7,
      "outputs": [
        {
          "output_type": "execute_result",
          "data": {
            "text/plain": [
              "<geemap.eefolium.Map at 0x7f2e27ba2cd0>"
            ],
            "text/html": [
              "<div style=\"width:100%;\"><div style=\"position:relative;width:100%;height:0;padding-bottom:60%;\"><span style=\"color:#565656\">Make this Notebook Trusted to load map: File -> Trust Notebook</span><iframe srcdoc=\"&lt;!DOCTYPE html&gt;\n",
              "&lt;head&gt;    \n",
              "    &lt;meta http-equiv=&quot;content-type&quot; content=&quot;text/html; charset=UTF-8&quot; /&gt;\n",
              "    \n",
              "        &lt;script&gt;\n",
              "            L_NO_TOUCH = false;\n",
              "            L_DISABLE_3D = false;\n",
              "        &lt;/script&gt;\n",
              "    \n",
              "    &lt;style&gt;html, body {width: 100%;height: 100%;margin: 0;padding: 0;}&lt;/style&gt;\n",
              "    &lt;style&gt;#map {position:absolute;top:0;bottom:0;right:0;left:0;}&lt;/style&gt;\n",
              "    &lt;script src=&quot;https://cdn.jsdelivr.net/npm/leaflet@1.6.0/dist/leaflet.js&quot;&gt;&lt;/script&gt;\n",
              "    &lt;script src=&quot;https://code.jquery.com/jquery-1.12.4.min.js&quot;&gt;&lt;/script&gt;\n",
              "    &lt;script src=&quot;https://maxcdn.bootstrapcdn.com/bootstrap/3.2.0/js/bootstrap.min.js&quot;&gt;&lt;/script&gt;\n",
              "    &lt;script src=&quot;https://cdnjs.cloudflare.com/ajax/libs/Leaflet.awesome-markers/2.0.2/leaflet.awesome-markers.js&quot;&gt;&lt;/script&gt;\n",
              "    &lt;link rel=&quot;stylesheet&quot; href=&quot;https://cdn.jsdelivr.net/npm/leaflet@1.6.0/dist/leaflet.css&quot;/&gt;\n",
              "    &lt;link rel=&quot;stylesheet&quot; href=&quot;https://maxcdn.bootstrapcdn.com/bootstrap/3.2.0/css/bootstrap.min.css&quot;/&gt;\n",
              "    &lt;link rel=&quot;stylesheet&quot; href=&quot;https://maxcdn.bootstrapcdn.com/bootstrap/3.2.0/css/bootstrap-theme.min.css&quot;/&gt;\n",
              "    &lt;link rel=&quot;stylesheet&quot; href=&quot;https://maxcdn.bootstrapcdn.com/font-awesome/4.6.3/css/font-awesome.min.css&quot;/&gt;\n",
              "    &lt;link rel=&quot;stylesheet&quot; href=&quot;https://cdnjs.cloudflare.com/ajax/libs/Leaflet.awesome-markers/2.0.2/leaflet.awesome-markers.css&quot;/&gt;\n",
              "    &lt;link rel=&quot;stylesheet&quot; href=&quot;https://cdn.jsdelivr.net/gh/python-visualization/folium/folium/templates/leaflet.awesome.rotate.min.css&quot;/&gt;\n",
              "    \n",
              "            &lt;meta name=&quot;viewport&quot; content=&quot;width=device-width,\n",
              "                initial-scale=1.0, maximum-scale=1.0, user-scalable=no&quot; /&gt;\n",
              "            &lt;style&gt;\n",
              "                #map_745989ce1429de9613ab7df1d703924c {\n",
              "                    position: relative;\n",
              "                    width: 100.0%;\n",
              "                    height: 100.0%;\n",
              "                    left: 0.0%;\n",
              "                    top: 0.0%;\n",
              "                }\n",
              "            &lt;/style&gt;\n",
              "        \n",
              "    &lt;script src=&quot;https://cdnjs.cloudflare.com/ajax/libs/leaflet.fullscreen/1.4.2/Control.FullScreen.min.js&quot;&gt;&lt;/script&gt;\n",
              "    &lt;link rel=&quot;stylesheet&quot; href=&quot;https://cdnjs.cloudflare.com/ajax/libs/leaflet.fullscreen/1.4.2/Control.FullScreen.min.css&quot;/&gt;\n",
              "&lt;/head&gt;\n",
              "&lt;body&gt;    \n",
              "    \n",
              "            &lt;div class=&quot;folium-map&quot; id=&quot;map_745989ce1429de9613ab7df1d703924c&quot; &gt;&lt;/div&gt;\n",
              "        \n",
              "&lt;/body&gt;\n",
              "&lt;script&gt;    \n",
              "    \n",
              "            var map_745989ce1429de9613ab7df1d703924c = L.map(\n",
              "                &quot;map_745989ce1429de9613ab7df1d703924c&quot;,\n",
              "                {\n",
              "                    center: [20.0, 0.0],\n",
              "                    crs: L.CRS.EPSG3857,\n",
              "                    zoom: 2,\n",
              "                    zoomControl: true,\n",
              "                    preferCanvas: false,\n",
              "                    eeInitialize: true,\n",
              "                    addGoogleMap: true,\n",
              "                    pluginLatlngpopup: true,\n",
              "                    pluginFullscreen: true,\n",
              "                    pluginDraw: false,\n",
              "                    DrawExport: true,\n",
              "                    pluginMinimap: false,\n",
              "                    pluginLayercontrol: false,\n",
              "                }\n",
              "            );\n",
              "\n",
              "            \n",
              "\n",
              "        \n",
              "    \n",
              "            var tile_layer_dda795b0f4bc06459fe08649e6f22f87 = L.tileLayer(\n",
              "                &quot;https://{s}.tile.openstreetmap.org/{z}/{x}/{y}.png&quot;,\n",
              "                {&quot;attribution&quot;: &quot;Data by \\u0026copy; \\u003ca href=\\&quot;http://openstreetmap.org\\&quot;\\u003eOpenStreetMap\\u003c/a\\u003e, under \\u003ca href=\\&quot;http://www.openstreetmap.org/copyright\\&quot;\\u003eODbL\\u003c/a\\u003e.&quot;, &quot;detectRetina&quot;: false, &quot;maxNativeZoom&quot;: 18, &quot;maxZoom&quot;: 18, &quot;minZoom&quot;: 0, &quot;noWrap&quot;: false, &quot;opacity&quot;: 1, &quot;subdomains&quot;: &quot;abc&quot;, &quot;tms&quot;: false}\n",
              "            ).addTo(map_745989ce1429de9613ab7df1d703924c);\n",
              "        \n",
              "    \n",
              "            var tile_layer_7411a2fae85535707505b0dbbbdd3e0c = L.tileLayer(\n",
              "                &quot;https://mt1.google.com/vt/lyrs=m\\u0026x={x}\\u0026y={y}\\u0026z={z}&quot;,\n",
              "                {&quot;attribution&quot;: &quot;Google&quot;, &quot;detectRetina&quot;: false, &quot;maxNativeZoom&quot;: 18, &quot;maxZoom&quot;: 18, &quot;minZoom&quot;: 0, &quot;noWrap&quot;: false, &quot;opacity&quot;: 1, &quot;subdomains&quot;: &quot;abc&quot;, &quot;tms&quot;: false}\n",
              "            ).addTo(map_745989ce1429de9613ab7df1d703924c);\n",
              "        \n",
              "    \n",
              "                var lat_lng_popup_ee61eee97dbc5720922fce9cbb41a7cf = L.popup();\n",
              "                function latLngPop(e) {\n",
              "                    lat_lng_popup_ee61eee97dbc5720922fce9cbb41a7cf\n",
              "                        .setLatLng(e.latlng)\n",
              "                        .setContent(&quot;Latitude: &quot; + e.latlng.lat.toFixed(4) +\n",
              "                                    &quot;&lt;br&gt;Longitude: &quot; + e.latlng.lng.toFixed(4))\n",
              "                        .openOn(map_745989ce1429de9613ab7df1d703924c);\n",
              "                    }\n",
              "                map_745989ce1429de9613ab7df1d703924c.on(&#x27;click&#x27;, latLngPop);\n",
              "            \n",
              "    \n",
              "            L.control.fullscreen(\n",
              "                {&quot;forceSeparateButton&quot;: false, &quot;position&quot;: &quot;topleft&quot;, &quot;title&quot;: &quot;Full Screen&quot;, &quot;titleCancel&quot;: &quot;Exit Full Screen&quot;}\n",
              "            ).addTo(map_745989ce1429de9613ab7df1d703924c);\n",
              "        \n",
              "    \n",
              "            map_745989ce1429de9613ab7df1d703924c.fitBounds(\n",
              "                [[20, 0], [20, 0]],\n",
              "                {&quot;maxZoom&quot;: 2}\n",
              "            );\n",
              "        \n",
              "    \n",
              "            var tile_layer_dee0f3139144757c372b9773afb21f6d = L.tileLayer(\n",
              "                &quot;https://earthengine.googleapis.com/v1alpha/projects/earthengine-legacy/maps/5ae7e707746a687c55394523501c731b-bc32dc108d2a405bd3fdb78bdb02b16b/tiles/{z}/{x}/{y}&quot;,\n",
              "                {&quot;attribution&quot;: &quot;Google Earth Engine&quot;, &quot;detectRetina&quot;: false, &quot;maxNativeZoom&quot;: 18, &quot;maxZoom&quot;: 18, &quot;minZoom&quot;: 0, &quot;noWrap&quot;: false, &quot;opacity&quot;: 1.0, &quot;subdomains&quot;: &quot;abc&quot;, &quot;tms&quot;: false}\n",
              "            ).addTo(map_745989ce1429de9613ab7df1d703924c);\n",
              "        \n",
              "    \n",
              "            map_745989ce1429de9613ab7df1d703924c.fitBounds(\n",
              "                [[28.250250330511026, 85.65000000000015], [28.250250330511026, 85.65000000000015]],\n",
              "                {&quot;maxZoom&quot;: 9}\n",
              "            );\n",
              "        \n",
              "    \n",
              "            var layer_control_72fc02e35d0aa766dd5d1cf40e8f5c65 = {\n",
              "                base_layers : {\n",
              "                    &quot;openstreetmap&quot; : tile_layer_dda795b0f4bc06459fe08649e6f22f87,\n",
              "                },\n",
              "                overlays :  {\n",
              "                    &quot;Google Maps&quot; : tile_layer_7411a2fae85535707505b0dbbbdd3e0c,\n",
              "                    &quot;my_aoi&quot; : tile_layer_dee0f3139144757c372b9773afb21f6d,\n",
              "                },\n",
              "            };\n",
              "            L.control.layers(\n",
              "                layer_control_72fc02e35d0aa766dd5d1cf40e8f5c65.base_layers,\n",
              "                layer_control_72fc02e35d0aa766dd5d1cf40e8f5c65.overlays,\n",
              "                {&quot;autoZIndex&quot;: true, &quot;collapsed&quot;: true, &quot;position&quot;: &quot;topright&quot;}\n",
              "            ).addTo(map_745989ce1429de9613ab7df1d703924c);\n",
              "        \n",
              "&lt;/script&gt;\" style=\"position:absolute;width:100%;height:100%;left:0;top:0;border:none !important;\" allowfullscreen webkitallowfullscreen mozallowfullscreen></iframe></div></div>"
            ]
          },
          "metadata": {},
          "execution_count": 7
        }
      ]
    },
    {
      "cell_type": "markdown",
      "metadata": {
        "id": "c-p0hBPmKy7p"
      },
      "source": [
        "## Loading image from GEE"
      ]
    },
    {
      "cell_type": "code",
      "execution_count": 8,
      "metadata": {
        "id": "d-gaP5-OKy7p"
      },
      "outputs": [],
      "source": [
        "# Add Earth Engine dataset\n",
        "image = ee.Image(\"NASA/NASADEM_HGT/001\").select('elevation')"
      ]
    },
    {
      "cell_type": "markdown",
      "metadata": {
        "id": "jBgGLlw3Ky7p"
      },
      "source": [
        "# Masking and displaying image"
      ]
    },
    {
      "cell_type": "code",
      "execution_count": 9,
      "metadata": {
        "id": "HTTriR4vKy7r"
      },
      "outputs": [],
      "source": [
        "image_clip = image.clip(roi)"
      ]
    },
    {
      "cell_type": "code",
      "execution_count": 10,
      "metadata": {
        "id": "gqjVN59QKy7r",
        "colab": {
          "base_uri": "https://localhost:8080/",
          "height": 685
        },
        "outputId": "32d4ea73-8eb3-446f-c48c-9f4dd29a16ad"
      },
      "outputs": [
        {
          "output_type": "execute_result",
          "data": {
            "text/plain": [
              "<geemap.eefolium.Map at 0x7f2e25a4f890>"
            ],
            "text/html": [
              "<div style=\"width:100%;\"><div style=\"position:relative;width:100%;height:0;padding-bottom:60%;\"><span style=\"color:#565656\">Make this Notebook Trusted to load map: File -> Trust Notebook</span><iframe srcdoc=\"&lt;!DOCTYPE html&gt;\n",
              "&lt;head&gt;    \n",
              "    &lt;meta http-equiv=&quot;content-type&quot; content=&quot;text/html; charset=UTF-8&quot; /&gt;\n",
              "    \n",
              "        &lt;script&gt;\n",
              "            L_NO_TOUCH = false;\n",
              "            L_DISABLE_3D = false;\n",
              "        &lt;/script&gt;\n",
              "    \n",
              "    &lt;style&gt;html, body {width: 100%;height: 100%;margin: 0;padding: 0;}&lt;/style&gt;\n",
              "    &lt;style&gt;#map {position:absolute;top:0;bottom:0;right:0;left:0;}&lt;/style&gt;\n",
              "    &lt;script src=&quot;https://cdn.jsdelivr.net/npm/leaflet@1.6.0/dist/leaflet.js&quot;&gt;&lt;/script&gt;\n",
              "    &lt;script src=&quot;https://code.jquery.com/jquery-1.12.4.min.js&quot;&gt;&lt;/script&gt;\n",
              "    &lt;script src=&quot;https://maxcdn.bootstrapcdn.com/bootstrap/3.2.0/js/bootstrap.min.js&quot;&gt;&lt;/script&gt;\n",
              "    &lt;script src=&quot;https://cdnjs.cloudflare.com/ajax/libs/Leaflet.awesome-markers/2.0.2/leaflet.awesome-markers.js&quot;&gt;&lt;/script&gt;\n",
              "    &lt;link rel=&quot;stylesheet&quot; href=&quot;https://cdn.jsdelivr.net/npm/leaflet@1.6.0/dist/leaflet.css&quot;/&gt;\n",
              "    &lt;link rel=&quot;stylesheet&quot; href=&quot;https://maxcdn.bootstrapcdn.com/bootstrap/3.2.0/css/bootstrap.min.css&quot;/&gt;\n",
              "    &lt;link rel=&quot;stylesheet&quot; href=&quot;https://maxcdn.bootstrapcdn.com/bootstrap/3.2.0/css/bootstrap-theme.min.css&quot;/&gt;\n",
              "    &lt;link rel=&quot;stylesheet&quot; href=&quot;https://maxcdn.bootstrapcdn.com/font-awesome/4.6.3/css/font-awesome.min.css&quot;/&gt;\n",
              "    &lt;link rel=&quot;stylesheet&quot; href=&quot;https://cdnjs.cloudflare.com/ajax/libs/Leaflet.awesome-markers/2.0.2/leaflet.awesome-markers.css&quot;/&gt;\n",
              "    &lt;link rel=&quot;stylesheet&quot; href=&quot;https://cdn.jsdelivr.net/gh/python-visualization/folium/folium/templates/leaflet.awesome.rotate.min.css&quot;/&gt;\n",
              "    \n",
              "            &lt;meta name=&quot;viewport&quot; content=&quot;width=device-width,\n",
              "                initial-scale=1.0, maximum-scale=1.0, user-scalable=no&quot; /&gt;\n",
              "            &lt;style&gt;\n",
              "                #map_bc062c6b480f951c067e6914bb1d2a91 {\n",
              "                    position: relative;\n",
              "                    width: 100.0%;\n",
              "                    height: 100.0%;\n",
              "                    left: 0.0%;\n",
              "                    top: 0.0%;\n",
              "                }\n",
              "            &lt;/style&gt;\n",
              "        \n",
              "    &lt;script src=&quot;https://cdnjs.cloudflare.com/ajax/libs/leaflet.fullscreen/1.4.2/Control.FullScreen.min.js&quot;&gt;&lt;/script&gt;\n",
              "    &lt;link rel=&quot;stylesheet&quot; href=&quot;https://cdnjs.cloudflare.com/ajax/libs/leaflet.fullscreen/1.4.2/Control.FullScreen.min.css&quot;/&gt;\n",
              "&lt;/head&gt;\n",
              "&lt;body&gt;    \n",
              "    \n",
              "            &lt;div class=&quot;folium-map&quot; id=&quot;map_bc062c6b480f951c067e6914bb1d2a91&quot; &gt;&lt;/div&gt;\n",
              "        \n",
              "&lt;/body&gt;\n",
              "&lt;script&gt;    \n",
              "    \n",
              "            var map_bc062c6b480f951c067e6914bb1d2a91 = L.map(\n",
              "                &quot;map_bc062c6b480f951c067e6914bb1d2a91&quot;,\n",
              "                {\n",
              "                    center: [20.0, 0.0],\n",
              "                    crs: L.CRS.EPSG3857,\n",
              "                    zoom: 2,\n",
              "                    zoomControl: true,\n",
              "                    preferCanvas: false,\n",
              "                    eeInitialize: true,\n",
              "                    addGoogleMap: true,\n",
              "                    pluginLatlngpopup: true,\n",
              "                    pluginFullscreen: true,\n",
              "                    pluginDraw: false,\n",
              "                    DrawExport: true,\n",
              "                    pluginMinimap: false,\n",
              "                    pluginLayercontrol: false,\n",
              "                }\n",
              "            );\n",
              "\n",
              "            \n",
              "\n",
              "        \n",
              "    \n",
              "            var tile_layer_2662207a2e7e3489e5f70dd063f7c576 = L.tileLayer(\n",
              "                &quot;https://{s}.tile.openstreetmap.org/{z}/{x}/{y}.png&quot;,\n",
              "                {&quot;attribution&quot;: &quot;Data by \\u0026copy; \\u003ca href=\\&quot;http://openstreetmap.org\\&quot;\\u003eOpenStreetMap\\u003c/a\\u003e, under \\u003ca href=\\&quot;http://www.openstreetmap.org/copyright\\&quot;\\u003eODbL\\u003c/a\\u003e.&quot;, &quot;detectRetina&quot;: false, &quot;maxNativeZoom&quot;: 18, &quot;maxZoom&quot;: 18, &quot;minZoom&quot;: 0, &quot;noWrap&quot;: false, &quot;opacity&quot;: 1, &quot;subdomains&quot;: &quot;abc&quot;, &quot;tms&quot;: false}\n",
              "            ).addTo(map_bc062c6b480f951c067e6914bb1d2a91);\n",
              "        \n",
              "    \n",
              "            var tile_layer_7411a2fae85535707505b0dbbbdd3e0c = L.tileLayer(\n",
              "                &quot;https://mt1.google.com/vt/lyrs=m\\u0026x={x}\\u0026y={y}\\u0026z={z}&quot;,\n",
              "                {&quot;attribution&quot;: &quot;Google&quot;, &quot;detectRetina&quot;: false, &quot;maxNativeZoom&quot;: 18, &quot;maxZoom&quot;: 18, &quot;minZoom&quot;: 0, &quot;noWrap&quot;: false, &quot;opacity&quot;: 1, &quot;subdomains&quot;: &quot;abc&quot;, &quot;tms&quot;: false}\n",
              "            ).addTo(map_bc062c6b480f951c067e6914bb1d2a91);\n",
              "        \n",
              "    \n",
              "                var lat_lng_popup_1ae7646d3596e6f5a89c1192e6642123 = L.popup();\n",
              "                function latLngPop(e) {\n",
              "                    lat_lng_popup_1ae7646d3596e6f5a89c1192e6642123\n",
              "                        .setLatLng(e.latlng)\n",
              "                        .setContent(&quot;Latitude: &quot; + e.latlng.lat.toFixed(4) +\n",
              "                                    &quot;&lt;br&gt;Longitude: &quot; + e.latlng.lng.toFixed(4))\n",
              "                        .openOn(map_bc062c6b480f951c067e6914bb1d2a91);\n",
              "                    }\n",
              "                map_bc062c6b480f951c067e6914bb1d2a91.on(&#x27;click&#x27;, latLngPop);\n",
              "            \n",
              "    \n",
              "            L.control.fullscreen(\n",
              "                {&quot;forceSeparateButton&quot;: false, &quot;position&quot;: &quot;topleft&quot;, &quot;title&quot;: &quot;Full Screen&quot;, &quot;titleCancel&quot;: &quot;Exit Full Screen&quot;}\n",
              "            ).addTo(map_bc062c6b480f951c067e6914bb1d2a91);\n",
              "        \n",
              "    \n",
              "            map_bc062c6b480f951c067e6914bb1d2a91.fitBounds(\n",
              "                [[20, 0], [20, 0]],\n",
              "                {&quot;maxZoom&quot;: 2}\n",
              "            );\n",
              "        \n",
              "    \n",
              "            var tile_layer_bdc63df3161f835a7f806eafa39dfa5c = L.tileLayer(\n",
              "                &quot;https://earthengine.googleapis.com/v1alpha/projects/earthengine-legacy/maps/db4f0f0030415875b8b7f3812a34e3a4-3215810a70908ec612fb6ae6ddcf5aed/tiles/{z}/{x}/{y}&quot;,\n",
              "                {&quot;attribution&quot;: &quot;Google Earth Engine&quot;, &quot;detectRetina&quot;: false, &quot;maxNativeZoom&quot;: 18, &quot;maxZoom&quot;: 18, &quot;minZoom&quot;: 0, &quot;noWrap&quot;: false, &quot;opacity&quot;: 1.0, &quot;subdomains&quot;: &quot;abc&quot;, &quot;tms&quot;: false}\n",
              "            ).addTo(map_bc062c6b480f951c067e6914bb1d2a91);\n",
              "        \n",
              "    \n",
              "            map_bc062c6b480f951c067e6914bb1d2a91.fitBounds(\n",
              "                [[27.999999999999996, 85.3], [28.5, 86]],\n",
              "                {&quot;maxZoom&quot;: 18}\n",
              "            );\n",
              "        \n",
              "    \n",
              "            var layer_control_aed691502e09be90c52c002c201bc86d = {\n",
              "                base_layers : {\n",
              "                    &quot;openstreetmap&quot; : tile_layer_2662207a2e7e3489e5f70dd063f7c576,\n",
              "                },\n",
              "                overlays :  {\n",
              "                    &quot;Google Maps&quot; : tile_layer_7411a2fae85535707505b0dbbbdd3e0c,\n",
              "                    &quot;false color composite&quot; : tile_layer_bdc63df3161f835a7f806eafa39dfa5c,\n",
              "                },\n",
              "            };\n",
              "            L.control.layers(\n",
              "                layer_control_aed691502e09be90c52c002c201bc86d.base_layers,\n",
              "                layer_control_aed691502e09be90c52c002c201bc86d.overlays,\n",
              "                {&quot;autoZIndex&quot;: true, &quot;collapsed&quot;: true, &quot;position&quot;: &quot;topright&quot;}\n",
              "            ).addTo(map_bc062c6b480f951c067e6914bb1d2a91);\n",
              "        \n",
              "&lt;/script&gt;\" style=\"position:absolute;width:100%;height:100%;left:0;top:0;border:none !important;\" allowfullscreen webkitallowfullscreen mozallowfullscreen></iframe></div></div>"
            ]
          },
          "metadata": {},
          "execution_count": 10
        }
      ],
      "source": [
        "# Set visualization parameters.\n",
        "vis_params = {\n",
        "    'min': 0,\n",
        "    'max': 8848,\n",
        "    'palette': ['006633', 'E5FFCC', '662A00', 'D8D8D8', 'F5F5F5'],\n",
        "}\n",
        "\n",
        "# Create a default map\n",
        "Map = geemap.Map()\n",
        "\n",
        "# Center the map and display the image.\n",
        "Map.addLayer(image_clip, vis_params, 'false color composite')\n",
        "Map.centerObject(image_clip, 18);\n",
        "\n",
        "# Display the map\n",
        "Map"
      ]
    },
    {
      "cell_type": "markdown",
      "source": [
        "# Downloading image in colab directory"
      ],
      "metadata": {
        "id": "BsqdjY30SE8u"
      }
    },
    {
      "cell_type": "code",
      "source": [
        "now = datetime.now()\n",
        "current_time = now.strftime(\"%H:%M:%S\")\n",
        "\n",
        "filename=out_dir+'/'+my_aoi_name+'_NASADEM_30m_'+current_time+'.tif'\n",
        "print(filename)\n"
      ],
      "metadata": {
        "colab": {
          "base_uri": "https://localhost:8080/"
        },
        "id": "hleQkeo7QWO5",
        "outputId": "bafd0a4c-20b4-44e1-97f0-5ce23d74c8d6"
      },
      "execution_count": 11,
      "outputs": [
        {
          "output_type": "stream",
          "name": "stdout",
          "text": [
            "./srtm_download/langtang_catchment__NASADEM_30m_01:07:19.tif\n"
          ]
        }
      ]
    },
    {
      "cell_type": "code",
      "execution_count": 12,
      "metadata": {
        "id": "K_EkMXA8Ky7r",
        "colab": {
          "base_uri": "https://localhost:8080/"
        },
        "outputId": "fd4ac922-4c58-4b06-ceba-b0347debcb85"
      },
      "outputs": [
        {
          "output_type": "stream",
          "name": "stdout",
          "text": [
            "Generating URL ...\n",
            "Downloading data from https://earthengine.googleapis.com/v1alpha/projects/earthengine-legacy/thumbnails/9800db5a6a125bb486e0926e8f7503e0-6586b071c64c40438719ccacd3396d04:getPixels\n",
            "Please wait ...\n",
            "Data downloaded to /content/srtm_download/langtang_catchment__NASADEM_30m_01:07:19.tif\n"
          ]
        }
      ],
      "source": [
        "geemap.ee_export_image(image_clip, filename=filename, scale=30, region=roi, file_per_band=False)"
      ]
    },
    {
      "cell_type": "markdown",
      "source": [
        "# Downloading data to local machine"
      ],
      "metadata": {
        "id": "Ouy2ltCbRQK8"
      }
    },
    {
      "cell_type": "code",
      "source": [
        "from google.colab import files\n",
        "files.download(filename)"
      ],
      "metadata": {
        "colab": {
          "base_uri": "https://localhost:8080/",
          "height": 17
        },
        "id": "0sbTHAsaQ6ML",
        "outputId": "de78bd96-cc64-4e40-cf8b-b69db94e7cc9"
      },
      "execution_count": 13,
      "outputs": [
        {
          "output_type": "display_data",
          "data": {
            "text/plain": [
              "<IPython.core.display.Javascript object>"
            ],
            "application/javascript": [
              "\n",
              "    async function download(id, filename, size) {\n",
              "      if (!google.colab.kernel.accessAllowed) {\n",
              "        return;\n",
              "      }\n",
              "      const div = document.createElement('div');\n",
              "      const label = document.createElement('label');\n",
              "      label.textContent = `Downloading \"${filename}\": `;\n",
              "      div.appendChild(label);\n",
              "      const progress = document.createElement('progress');\n",
              "      progress.max = size;\n",
              "      div.appendChild(progress);\n",
              "      document.body.appendChild(div);\n",
              "\n",
              "      const buffers = [];\n",
              "      let downloaded = 0;\n",
              "\n",
              "      const channel = await google.colab.kernel.comms.open(id);\n",
              "      // Send a message to notify the kernel that we're ready.\n",
              "      channel.send({})\n",
              "\n",
              "      for await (const message of channel.messages) {\n",
              "        // Send a message to notify the kernel that we're ready.\n",
              "        channel.send({})\n",
              "        if (message.buffers) {\n",
              "          for (const buffer of message.buffers) {\n",
              "            buffers.push(buffer);\n",
              "            downloaded += buffer.byteLength;\n",
              "            progress.value = downloaded;\n",
              "          }\n",
              "        }\n",
              "      }\n",
              "      const blob = new Blob(buffers, {type: 'application/binary'});\n",
              "      const a = document.createElement('a');\n",
              "      a.href = window.URL.createObjectURL(blob);\n",
              "      a.download = filename;\n",
              "      div.appendChild(a);\n",
              "      a.click();\n",
              "      div.remove();\n",
              "    }\n",
              "  "
            ]
          },
          "metadata": {}
        },
        {
          "output_type": "display_data",
          "data": {
            "text/plain": [
              "<IPython.core.display.Javascript object>"
            ],
            "application/javascript": [
              "download(\"download_9d534e9c-6dcb-4a8d-aa7a-deeb270e6e26\", \"langtang_catchment__NASADEM_30m_01:07:19.tif\", 6214625)"
            ]
          },
          "metadata": {}
        }
      ]
    }
  ],
  "metadata": {
    "hide_input": false,
    "kernelspec": {
      "display_name": "Python 3",
      "language": "python",
      "name": "python3"
    },
    "language_info": {
      "codemirror_mode": {
        "name": "ipython",
        "version": 3
      },
      "file_extension": ".py",
      "mimetype": "text/x-python",
      "name": "python",
      "nbconvert_exporter": "python",
      "pygments_lexer": "ipython3",
      "version": "3.8.5"
    },
    "toc": {
      "base_numbering": 1,
      "nav_menu": {},
      "number_sections": true,
      "sideBar": true,
      "skip_h1_title": true,
      "title_cell": "Table of Contents",
      "title_sidebar": "Table of Contents",
      "toc_cell": false,
      "toc_position": {},
      "toc_section_display": true,
      "toc_window_display": true
    },
    "varInspector": {
      "cols": {
        "lenName": 16,
        "lenType": 16,
        "lenVar": 40
      },
      "kernels_config": {
        "python": {
          "delete_cmd_postfix": "",
          "delete_cmd_prefix": "del ",
          "library": "var_list.py",
          "varRefreshCmd": "print(var_dic_list())"
        },
        "r": {
          "delete_cmd_postfix": ") ",
          "delete_cmd_prefix": "rm(",
          "library": "var_list.r",
          "varRefreshCmd": "cat(var_dic_list()) "
        }
      },
      "types_to_exclude": [
        "module",
        "function",
        "builtin_function_or_method",
        "instance",
        "_Feature"
      ],
      "window_display": false
    },
    "colab": {
      "name": "download_30m_NASADEM_amrit.ipynb",
      "provenance": [],
      "collapsed_sections": [],
      "include_colab_link": true
    }
  },
  "nbformat": 4,
  "nbformat_minor": 0
}